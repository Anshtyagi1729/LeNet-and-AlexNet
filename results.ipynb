{
  "cells": [
    {
      "cell_type": "code",
      "source": [
        "%cd /content/files\n"
      ],
      "metadata": {
        "id": "NmFFNFhBeHjW",
        "outputId": "a57d66b8-cf2f-4cca-fb2d-285e06550562",
        "colab": {
          "base_uri": "https://localhost:8080/"
        }
      },
      "execution_count": null,
      "outputs": [
        {
          "output_type": "stream",
          "name": "stdout",
          "text": [
            "/content/files\n"
          ]
        }
      ]
    },
    {
      "cell_type": "code",
      "source": [
        "!ls"
      ],
      "metadata": {
        "id": "n4KLEbxteNt8",
        "outputId": "74d5d1c2-1f28-48df-e9d6-10733525af0c",
        "colab": {
          "base_uri": "https://localhost:8080/"
        }
      },
      "execution_count": null,
      "outputs": [
        {
          "output_type": "stream",
          "name": "stdout",
          "text": [
            "data  main.py  models.py  __pycache__  train.py  utils.py\n"
          ]
        }
      ]
    },
    {
      "cell_type": "code",
      "source": [
        "import torch\n",
        "print(torch.cuda.is_available())"
      ],
      "metadata": {
        "id": "HClUwMiBeQfD",
        "outputId": "5b42b8eb-3254-4c2a-bbaf-821959a7fc9f",
        "colab": {
          "base_uri": "https://localhost:8080/"
        }
      },
      "execution_count": null,
      "outputs": [
        {
          "output_type": "stream",
          "name": "stdout",
          "text": [
            "True\n"
          ]
        }
      ]
    },
    {
      "cell_type": "code",
      "source": [
        "!nvidia-smi\n"
      ],
      "metadata": {
        "id": "zLNCopLqhzAC",
        "outputId": "03f98cb9-e19f-4306-b7ca-955ff7b38bca",
        "colab": {
          "base_uri": "https://localhost:8080/"
        }
      },
      "execution_count": null,
      "outputs": [
        {
          "output_type": "stream",
          "name": "stdout",
          "text": [
            "Thu Apr 10 07:39:44 2025       \n",
            "+-----------------------------------------------------------------------------------------+\n",
            "| NVIDIA-SMI 550.54.15              Driver Version: 550.54.15      CUDA Version: 12.4     |\n",
            "|-----------------------------------------+------------------------+----------------------+\n",
            "| GPU  Name                 Persistence-M | Bus-Id          Disp.A | Volatile Uncorr. ECC |\n",
            "| Fan  Temp   Perf          Pwr:Usage/Cap |           Memory-Usage | GPU-Util  Compute M. |\n",
            "|                                         |                        |               MIG M. |\n",
            "|=========================================+========================+======================|\n",
            "|   0  Tesla T4                       Off |   00000000:00:04.0 Off |                    0 |\n",
            "| N/A   34C    P8              9W /   70W |       2MiB /  15360MiB |      0%      Default |\n",
            "|                                         |                        |                  N/A |\n",
            "+-----------------------------------------+------------------------+----------------------+\n",
            "                                                                                         \n",
            "+-----------------------------------------------------------------------------------------+\n",
            "| Processes:                                                                              |\n",
            "|  GPU   GI   CI        PID   Type   Process name                              GPU Memory |\n",
            "|        ID   ID                                                               Usage      |\n",
            "|=========================================================================================|\n",
            "|  No running processes found                                                             |\n",
            "+-----------------------------------------------------------------------------------------+\n"
          ]
        }
      ]
    },
    {
      "cell_type": "code",
      "source": [
        "!python main.py\n",
        "#this is the loss and perfomance on CIFAR10 using LeNet"
      ],
      "metadata": {
        "id": "fUb_9yy4leHA",
        "outputId": "2c88c9d7-1bdb-4fb6-f2ff-79c3289b38e3",
        "colab": {
          "base_uri": "https://localhost:8080/"
        }
      },
      "execution_count": null,
      "outputs": [
        {
          "output_type": "stream",
          "name": "stdout",
          "text": [
            "training on the epoch -> 1\n",
            "epoch 1, Loss: 1548.4304\n",
            "Test Accuracy: 36.03%\n",
            "training on the epoch -> 2\n",
            "epoch 2, Loss: 1321.1578\n",
            "Test Accuracy: 41.80%\n",
            "training on the epoch -> 3\n",
            "epoch 3, Loss: 1216.8850\n",
            "Test Accuracy: 46.26%\n",
            "training on the epoch -> 4\n",
            "epoch 4, Loss: 1137.6799\n",
            "Test Accuracy: 49.14%\n",
            "training on the epoch -> 5\n",
            "epoch 5, Loss: 1080.8984\n",
            "Test Accuracy: 50.71%\n",
            "training on the epoch -> 6\n",
            "epoch 6, Loss: 1038.9889\n",
            "Test Accuracy: 52.40%\n",
            "training on the epoch -> 7\n",
            "epoch 7, Loss: 1004.5512\n",
            "Test Accuracy: 53.91%\n",
            "training on the epoch -> 8\n",
            "epoch 8, Loss: 978.4400\n",
            "Test Accuracy: 54.13%\n",
            "training on the epoch -> 9\n",
            "epoch 9, Loss: 953.6021\n",
            "Test Accuracy: 55.37%\n",
            "training on the epoch -> 10\n",
            "epoch 10, Loss: 931.9244\n",
            "Test Accuracy: 55.91%\n"
          ]
        }
      ]
    },
    {
      "cell_type": "code",
      "source": [
        "#this is the performance of cifar 10 using the alexnet\n",
        "!python main.py\n",
        "#needed to change the structure since the orginal alexnet had the dimension of 223 or something and the cifar10 have 32*32 images so the"
      ],
      "metadata": {
        "id": "9pQ-SHS6luRi",
        "outputId": "42b718ea-b9c7-402c-81f3-8281bbda8994",
        "colab": {
          "base_uri": "https://localhost:8080/"
        }
      },
      "execution_count": null,
      "outputs": [
        {
          "metadata": {
            "tags": null
          },
          "name": "stdout",
          "output_type": "stream",
          "text": [
            "training on the epoch -> 1\n",
            "epoch 1, Loss: 1229.0975\n",
            "Test Accuracy: 56.37%\n",
            "training on the epoch -> 2\n",
            "epoch 2, Loss: 860.1218\n",
            "Test Accuracy: 63.94%\n",
            "training on the epoch -> 3\n",
            "epoch 3, Loss: 722.0776\n",
            "Test Accuracy: 69.54%\n",
            "training on the epoch -> 4\n",
            "epoch 4, Loss: 638.7116\n",
            "Test Accuracy: 69.52%\n",
            "training on the epoch -> 5\n",
            "epoch 5, Loss: 573.2387\n",
            "Test Accuracy: 72.66%\n",
            "training on the epoch -> 6\n",
            "epoch 6, Loss: 523.9010\n",
            "Test Accuracy: 70.48%\n",
            "training on the epoch -> 7\n",
            "epoch 7, Loss: 485.0918\n",
            "Test Accuracy: 74.83%\n",
            "training on the epoch -> 8\n",
            "epoch 8, Loss: 452.1719\n",
            "Test Accuracy: 73.65%\n",
            "training on the epoch -> 9\n",
            "epoch 9, Loss: 423.0423\n",
            "Test Accuracy: 75.08%\n",
            "training on the epoch -> 10\n",
            "epoch 10, Loss: 393.9881\n",
            "Test Accuracy: 74.36%\n"
          ]
        }
      ]
    },
    {
      "cell_type": "code",
      "source": [
        "#the AlexNet shows a accuracy of 74 percent on the cifar 10 dataset"
      ],
      "metadata": {
        "id": "nWfivofpqO9T"
      },
      "execution_count": null,
      "outputs": []
    }
  ],
  "metadata": {
    "colab": {
      "provenance": [],
      "gpuType": "T4"
    },
    "kernelspec": {
      "display_name": "Python 3",
      "name": "python3"
    },
    "accelerator": "GPU"
  },
  "nbformat": 4,
  "nbformat_minor": 0
}