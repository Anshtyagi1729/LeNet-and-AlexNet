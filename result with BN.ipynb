{
  "nbformat": 4,
  "nbformat_minor": 0,
  "metadata": {
    "colab": {
      "provenance": [],
      "gpuType": "T4"
    },
    "kernelspec": {
      "name": "python3",
      "display_name": "Python 3"
    },
    "language_info": {
      "name": "python"
    },
    "accelerator": "GPU"
  },
  "cells": [
    {
      "cell_type": "code",
      "execution_count": 2,
      "metadata": {
        "colab": {
          "base_uri": "https://localhost:8080/"
        },
        "id": "c3dEyJBMCJ_5",
        "outputId": "42a04a95-bf9b-457a-fa67-03cf2bd9d85e"
      },
      "outputs": [
        {
          "output_type": "stream",
          "name": "stdout",
          "text": [
            "/content/cello\n"
          ]
        }
      ],
      "source": [
        "%cd /content/cello\n"
      ]
    },
    {
      "cell_type": "code",
      "source": [
        "!ls"
      ],
      "metadata": {
        "colab": {
          "base_uri": "https://localhost:8080/"
        },
        "id": "O0ftvKPuC4jh",
        "outputId": "ca858615-e75c-425a-afa9-d337a6e6c28f"
      },
      "execution_count": 3,
      "outputs": [
        {
          "output_type": "stream",
          "name": "stdout",
          "text": [
            "main.py  models.py  train.py  utils.py\n"
          ]
        }
      ]
    },
    {
      "cell_type": "code",
      "source": [
        "!python main.py"
      ],
      "metadata": {
        "colab": {
          "base_uri": "https://localhost:8080/"
        },
        "id": "nnfm5RWiC84r",
        "outputId": "1278135d-2da4-4515-a914-02e309368a51"
      },
      "execution_count": 12,
      "outputs": [
        {
          "output_type": "stream",
          "name": "stdout",
          "text": [
            "training on the epoch -> 1\n",
            "epoch 1, Loss: 1278.5937\n",
            "Test Accuracy: 49.21%\n",
            "training on the epoch -> 2\n",
            "epoch 2, Loss: 1057.9321\n",
            "Test Accuracy: 50.76%\n",
            "training on the epoch -> 3\n",
            "epoch 3, Loss: 966.7856\n",
            "Test Accuracy: 56.62%\n",
            "training on the epoch -> 4\n",
            "epoch 4, Loss: 893.8688\n",
            "Test Accuracy: 59.42%\n",
            "training on the epoch -> 5\n",
            "epoch 5, Loss: 838.6930\n",
            "Test Accuracy: 61.39%\n",
            "training on the epoch -> 6\n",
            "epoch 6, Loss: 794.4035\n",
            "Test Accuracy: 58.67%\n",
            "training on the epoch -> 7\n",
            "epoch 7, Loss: 755.5651\n",
            "Test Accuracy: 62.61%\n",
            "training on the epoch -> 8\n",
            "epoch 8, Loss: 725.3686\n",
            "Test Accuracy: 64.27%\n",
            "training on the epoch -> 9\n",
            "epoch 9, Loss: 695.8495\n",
            "Test Accuracy: 64.44%\n",
            "training on the epoch -> 10\n",
            "epoch 10, Loss: 668.8352\n",
            "Test Accuracy: 64.37%\n"
          ]
        }
      ]
    },
    {
      "cell_type": "code",
      "source": [],
      "metadata": {
        "id": "dlRHF-OsDHhI"
      },
      "execution_count": null,
      "outputs": []
    }
  ]
}